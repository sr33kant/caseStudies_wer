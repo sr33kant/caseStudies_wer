{
 "cells": [
  {
   "cell_type": "code",
   "execution_count": 17,
   "metadata": {
    "collapsed": true
   },
   "outputs": [],
   "source": [
    "import glob\n",
    "import pandas as pd\n",
    "import os"
   ]
  },
  {
   "cell_type": "code",
   "execution_count": 23,
   "metadata": {
    "collapsed": true
   },
   "outputs": [],
   "source": [
    "path='../../../Users/sreek/Documents/wer_ai/namesbystate/'\n",
    "all_files=glob.glob(os.path.join(path,\"*.txt\"))"
   ]
  },
  {
   "cell_type": "code",
   "execution_count": 24,
   "metadata": {
    "collapsed": false
   },
   "outputs": [],
   "source": [
    "combined_data=pd.concat((pd.read_csv(f,header=None) for f in all_files))"
   ]
  },
  {
   "cell_type": "markdown",
   "metadata": {},
   "source": [
    "# Please describe the format of the data files. Can you identify any  limitations or distortions of the data?"
   ]
  },
  {
   "cell_type": "markdown",
   "metadata": {},
   "source": [
    "Data set is comma seperated text files. first column is state , second gender , third year , fourth name and fifth is the count \n",
    "of times that name appeared in that state"
   ]
  },
  {
   "cell_type": "markdown",
   "metadata": {},
   "source": [
    "Count of names in a state appears to be filtered to include only names which appear more than or equal to 5 times , names which \n",
    "are rarely used have been filtered out. "
   ]
  },
  {
   "cell_type": "code",
   "execution_count": 159,
   "metadata": {
    "collapsed": false
   },
   "outputs": [
    {
     "data": {
      "text/html": [
       "<div>\n",
       "<table border=\"1\" class=\"dataframe\">\n",
       "  <thead>\n",
       "    <tr style=\"text-align: right;\">\n",
       "      <th></th>\n",
       "      <th>0</th>\n",
       "      <th>1</th>\n",
       "      <th>2</th>\n",
       "      <th>3</th>\n",
       "      <th>4</th>\n",
       "    </tr>\n",
       "  </thead>\n",
       "  <tbody>\n",
       "  </tbody>\n",
       "</table>\n",
       "</div>"
      ],
      "text/plain": [
       "Empty DataFrame\n",
       "Columns: [0, 1, 2, 3, 4]\n",
       "Index: []"
      ]
     },
     "execution_count": 159,
     "metadata": {},
     "output_type": "execute_result"
    }
   ],
   "source": [
    "combined_data[combined_data[4]<=4]"
   ]
  },
  {
   "cell_type": "markdown",
   "metadata": {},
   "source": [
    "# What is the most popular name of all time? (Of either gender.)  It looks like James is the most popular among either genders"
   ]
  },
  {
   "cell_type": "code",
   "execution_count": 85,
   "metadata": {
    "collapsed": false
   },
   "outputs": [
    {
     "data": {
      "text/plain": [
       "3\n",
       "James    5001762\n",
       "Name: 4, dtype: int64"
      ]
     },
     "execution_count": 85,
     "metadata": {},
     "output_type": "execute_result"
    }
   ],
   "source": [
    "combined_data.groupby(3).sum()[4].sort_values(ascending=False).head(1)"
   ]
  },
  {
   "cell_type": "code",
   "execution_count": 66,
   "metadata": {
    "collapsed": false
   },
   "outputs": [],
   "source": [
    "data_2013=combined_data[combined_data[2]==2013].rename(columns={0:\"State\",1:\"Gender\",2:\"Year\",3:\"Name\",4:\"Count\"})"
   ]
  },
  {
   "cell_type": "code",
   "execution_count": 134,
   "metadata": {
    "collapsed": false
   },
   "outputs": [],
   "source": [
    "ratio=1-data_2013.groupby(['Name','Gender'])['Count'].sum()/data_2013.groupby('Name')['Count'].sum()"
   ]
  },
  {
   "cell_type": "markdown",
   "metadata": {},
   "source": [
    "# What is the most gender ambiguous name in 2013? 1945?"
   ]
  },
  {
   "cell_type": "markdown",
   "metadata": {},
   "source": [
    "Most ambiguous names in 2013 were more than a couple of them , Arlin ,Cree,Devine ..."
   ]
  },
  {
   "cell_type": "code",
   "execution_count": 144,
   "metadata": {
    "collapsed": false
   },
   "outputs": [
    {
     "data": {
      "text/plain": [
       "Name    Gender\n",
       "Arlin   F         0.5\n",
       "        M         0.5\n",
       "Cree    F         0.5\n",
       "        M         0.5\n",
       "Devine  F         0.5\n",
       "        M         0.5\n",
       "Nikita  F         0.5\n",
       "        M         0.5\n",
       "Sonam   F         0.5\n",
       "        M         0.5\n",
       "Name: Count, dtype: float64"
      ]
     },
     "execution_count": 144,
     "metadata": {},
     "output_type": "execute_result"
    }
   ],
   "source": [
    "ratio[ratio==0.5]"
   ]
  },
  {
   "cell_type": "code",
   "execution_count": 145,
   "metadata": {
    "collapsed": true
   },
   "outputs": [],
   "source": [
    "data_1945=combined_data[combined_data[2]==1945].rename(columns={0:\"State\",1:\"Gender\",2:\"Year\",3:\"Name\",4:\"Count\"})"
   ]
  },
  {
   "cell_type": "code",
   "execution_count": 148,
   "metadata": {
    "collapsed": true
   },
   "outputs": [],
   "source": [
    "ratio2=1-data_1945.groupby(['Name','Gender'])['Count'].sum()/data_1945.groupby('Name')['Count'].sum()"
   ]
  },
  {
   "cell_type": "markdown",
   "metadata": {},
   "source": [
    "Most gender ambiguous name in 1945 was Maxie"
   ]
  },
  {
   "cell_type": "code",
   "execution_count": 149,
   "metadata": {
    "collapsed": false
   },
   "outputs": [
    {
     "data": {
      "text/plain": [
       "Name   Gender\n",
       "Maxie  F         0.5\n",
       "       M         0.5\n",
       "Name: Count, dtype: float64"
      ]
     },
     "execution_count": 149,
     "metadata": {},
     "output_type": "execute_result"
    }
   ],
   "source": [
    "ratio2[ratio2==0.5]"
   ]
  },
  {
   "cell_type": "markdown",
   "metadata": {},
   "source": [
    "# Of the names represented in the data, find the name that has had the largest percentage increase in popularity since 1980. Largest decrease?"
   ]
  },
  {
   "cell_type": "code",
   "execution_count": 150,
   "metadata": {
    "collapsed": true
   },
   "outputs": [],
   "source": [
    "data_1980=combined_data[combined_data[2]==1980].rename(columns={0:\"State\",1:\"Gender\",2:\"Year\",3:\"Name\",4:\"Count\"})"
   ]
  },
  {
   "cell_type": "code",
   "execution_count": 154,
   "metadata": {
    "collapsed": false
   },
   "outputs": [],
   "source": [
    "Total_1980=sum(data_1980.groupby('Name').sum()['Count'])"
   ]
  },
  {
   "cell_type": "code",
   "execution_count": 161,
   "metadata": {
    "collapsed": false
   },
   "outputs": [],
   "source": [
    "percentages_1980=data_1980.groupby('Name').sum()['Count'].sort_values()/Total_1980"
   ]
  },
  {
   "cell_type": "code",
   "execution_count": 151,
   "metadata": {
    "collapsed": true
   },
   "outputs": [],
   "source": [
    "data_2017=combined_data[combined_data[2]==2017].rename(columns={0:\"State\",1:\"Gender\",2:\"Year\",3:\"Name\",4:\"Count\"})"
   ]
  },
  {
   "cell_type": "code",
   "execution_count": 158,
   "metadata": {
    "collapsed": true
   },
   "outputs": [],
   "source": [
    "Total_2017=sum(data_2017.groupby('Name').sum()['Count'])"
   ]
  },
  {
   "cell_type": "code",
   "execution_count": 162,
   "metadata": {
    "collapsed": false
   },
   "outputs": [],
   "source": [
    "percentages_2017=data_2017.groupby('Name').sum()['Count'].sort_values()/Total_2017"
   ]
  },
  {
   "cell_type": "markdown",
   "metadata": {},
   "source": [
    "*This is a naive way to get the calculation . I should have checked whether names in 2017 exists in 1980 and then do this\n",
    "calculation on the subset.*"
   ]
  },
  {
   "cell_type": "code",
   "execution_count": 171,
   "metadata": {
    "collapsed": false
   },
   "outputs": [
    {
     "data": {
      "text/plain": [
       "Name\n",
       "Emma    0.006447\n",
       "Name: Count, dtype: float64"
      ]
     },
     "execution_count": 171,
     "metadata": {},
     "output_type": "execute_result"
    }
   ],
   "source": [
    "(percentages_2017-percentages_1980).sort_values(ascending=False).head(1)"
   ]
  },
  {
   "cell_type": "markdown",
   "metadata": {},
   "source": [
    "# Besides the analysis above, do you discovery any interesting insights from the dataset?  This is an open ended question. \n"
   ]
  },
  {
   "cell_type": "markdown",
   "metadata": {},
   "source": [
    "The average lenght of baby names seems to be between 5-6 letters through time. There is a rise in the length of names until ~1990 after which we see a sharp decline up to the present times\n",
    "\n",
    "An immigration act in 1924 restricted the influx of immigrants - and enforced a quota system for immigrants for different countries.The global depression combined with WW2 saw a decline in immigration and hence the number of new names.\n",
    "\n",
    "In 1965  Congress passed the Immigration and Nationality Act and since then we see a rapid rise in the number of new names year-on-year! "
   ]
  },
  {
   "cell_type": "code",
   "execution_count": null,
   "metadata": {
    "collapsed": true
   },
   "outputs": [],
   "source": []
  }
 ],
 "metadata": {
  "kernelspec": {
   "display_name": "Python 3",
   "language": "python",
   "name": "python3"
  },
  "language_info": {
   "codemirror_mode": {
    "name": "ipython",
    "version": 3
   },
   "file_extension": ".py",
   "mimetype": "text/x-python",
   "name": "python",
   "nbconvert_exporter": "python",
   "pygments_lexer": "ipython3",
   "version": "3.5.1"
  }
 },
 "nbformat": 4,
 "nbformat_minor": 2
}
