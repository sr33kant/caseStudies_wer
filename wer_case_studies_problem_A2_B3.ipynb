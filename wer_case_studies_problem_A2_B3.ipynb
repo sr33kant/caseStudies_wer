{
 "cells": [
  {
   "cell_type": "code",
   "execution_count": 14,
   "metadata": {
    "collapsed": false
   },
   "outputs": [],
   "source": [
    "import numpy as np\n",
    "import sklearn as sk\n",
    "import pandas as pd\n",
    "import matplotlib.pyplot as plt"
   ]
  },
  {
   "cell_type": "code",
   "execution_count": 222,
   "metadata": {
    "collapsed": true
   },
   "outputs": [],
   "source": [
    "from sklearn.cluster import DBSCAN,KMeans"
   ]
  },
  {
   "cell_type": "code",
   "execution_count": 205,
   "metadata": {
    "collapsed": false
   },
   "outputs": [],
   "source": [
    "c_raw_data=np.array([(1.0, 1.0), (1.5, 2.0), (3.0, 4.0), (5.0, 7.0), (3.5, 5.0), (4.5, 5.0), (3.5, 4.5)])"
   ]
  },
  {
   "cell_type": "code",
   "execution_count": 220,
   "metadata": {
    "collapsed": false
   },
   "outputs": [],
   "source": [
    "dbscan_clusters = DBSCAN(eps=2, min_samples=2).fit(c_raw_data)"
   ]
  },
  {
   "cell_type": "code",
   "execution_count": 221,
   "metadata": {
    "collapsed": false
   },
   "outputs": [
    {
     "data": {
      "text/plain": [
       "array([ 0,  0,  1, -1,  1,  1,  1], dtype=int64)"
      ]
     },
     "execution_count": 221,
     "metadata": {},
     "output_type": "execute_result"
    }
   ],
   "source": [
    "dbscan_clusters.labels_\n"
   ]
  },
  {
   "cell_type": "markdown",
   "metadata": {},
   "source": [
    "# K-Means clustering"
   ]
  },
  {
   "cell_type": "code",
   "execution_count": 223,
   "metadata": {
    "collapsed": true
   },
   "outputs": [],
   "source": [
    "kmeans_clusters=KMeans(n_clusters=3, random_state=0).fit(c_raw_data)"
   ]
  },
  {
   "cell_type": "code",
   "execution_count": 224,
   "metadata": {
    "collapsed": false
   },
   "outputs": [
    {
     "data": {
      "text/plain": [
       "array([1, 1, 0, 2, 0, 0, 0])"
      ]
     },
     "execution_count": 224,
     "metadata": {},
     "output_type": "execute_result"
    }
   ],
   "source": [
    "kmeans_clusters.labels_"
   ]
  },
  {
   "cell_type": "markdown",
   "metadata": {},
   "source": [
    "# B3 ETL"
   ]
  },
  {
   "cell_type": "code",
   "execution_count": 280,
   "metadata": {
    "collapsed": true
   },
   "outputs": [],
   "source": [
    "sales_data=pd.read_csv('../../../Users/sreek/Documents/wer_ai/case-studies/sales.csv')\n",
    "msrp_data=pd.read_csv('../../../Users/sreek/Documents/wer_ai/case-studies/msrp.csv')"
   ]
  },
  {
   "cell_type": "code",
   "execution_count": 306,
   "metadata": {
    "collapsed": false
   },
   "outputs": [
    {
     "name": "stdout",
     "output_type": "stream",
     "text": [
      "(155724, 8)\n"
     ]
    }
   ],
   "source": [
    "print(sales_data.head(5))\n",
    "print(sales_data.shape)"
   ]
  },
  {
   "cell_type": "code",
   "execution_count": 410,
   "metadata": {
    "collapsed": false
   },
   "outputs": [
    {
     "data": {
      "text/html": [
       "<div>\n",
       "<table border=\"1\" class=\"dataframe\">\n",
       "  <thead>\n",
       "    <tr style=\"text-align: right;\">\n",
       "      <th></th>\n",
       "      <th>Price</th>\n",
       "      <th>Year</th>\n",
       "      <th>Mileage</th>\n",
       "      <th>City</th>\n",
       "      <th>State</th>\n",
       "      <th>Vin</th>\n",
       "      <th>Make</th>\n",
       "      <th>Model</th>\n",
       "    </tr>\n",
       "  </thead>\n",
       "  <tbody>\n",
       "    <tr>\n",
       "      <th>0</th>\n",
       "      <td>7989</td>\n",
       "      <td>2012</td>\n",
       "      <td>105246</td>\n",
       "      <td>Miami</td>\n",
       "      <td>FL</td>\n",
       "      <td>JH4CU2F83CC019895</td>\n",
       "      <td>Acura</td>\n",
       "      <td>TSXAutomatic</td>\n",
       "    </tr>\n",
       "    <tr>\n",
       "      <th>1</th>\n",
       "      <td>13999</td>\n",
       "      <td>2013</td>\n",
       "      <td>35035</td>\n",
       "      <td>Santa Ana</td>\n",
       "      <td>CA</td>\n",
       "      <td>JH4CU2F4XDC000369</td>\n",
       "      <td>Acura</td>\n",
       "      <td>TSX5-Speed</td>\n",
       "    </tr>\n",
       "    <tr>\n",
       "      <th>2</th>\n",
       "      <td>14590</td>\n",
       "      <td>2010</td>\n",
       "      <td>19250</td>\n",
       "      <td>Clearwater</td>\n",
       "      <td>FL</td>\n",
       "      <td>JH4CU2F6XAC041680</td>\n",
       "      <td>Acura</td>\n",
       "      <td>TSX4dr</td>\n",
       "    </tr>\n",
       "    <tr>\n",
       "      <th>3</th>\n",
       "      <td>9500</td>\n",
       "      <td>2011</td>\n",
       "      <td>68289</td>\n",
       "      <td>Arcadia</td>\n",
       "      <td>FL</td>\n",
       "      <td>JH4CU2F62BC007928</td>\n",
       "      <td>Acura</td>\n",
       "      <td>TSX4dr</td>\n",
       "    </tr>\n",
       "    <tr>\n",
       "      <th>4</th>\n",
       "      <td>16994</td>\n",
       "      <td>2015</td>\n",
       "      <td>23946</td>\n",
       "      <td>St. Augustine</td>\n",
       "      <td>FL</td>\n",
       "      <td>19VDE1F32FE000651</td>\n",
       "      <td>Acura</td>\n",
       "      <td>ILX5-Speed</td>\n",
       "    </tr>\n",
       "  </tbody>\n",
       "</table>\n",
       "</div>"
      ],
      "text/plain": [
       "   Price  Year  Mileage           City State                Vin   Make  \\\n",
       "0   7989  2012   105246          Miami    FL  JH4CU2F83CC019895  Acura   \n",
       "1  13999  2013    35035      Santa Ana    CA  JH4CU2F4XDC000369  Acura   \n",
       "2  14590  2010    19250     Clearwater    FL  JH4CU2F6XAC041680  Acura   \n",
       "3   9500  2011    68289        Arcadia    FL  JH4CU2F62BC007928  Acura   \n",
       "4  16994  2015    23946  St. Augustine    FL  19VDE1F32FE000651  Acura   \n",
       "\n",
       "          Model  \n",
       "0  TSXAutomatic  \n",
       "1    TSX5-Speed  \n",
       "2        TSX4dr  \n",
       "3        TSX4dr  \n",
       "4    ILX5-Speed  "
      ]
     },
     "execution_count": 410,
     "metadata": {},
     "output_type": "execute_result"
    }
   ],
   "source": [
    "sales_data.head(5)"
   ]
  },
  {
   "cell_type": "code",
   "execution_count": 351,
   "metadata": {
    "collapsed": false
   },
   "outputs": [],
   "source": [
    "grouped_sales=sales_data.groupby(['Make','Model','Year'])"
   ]
  },
  {
   "cell_type": "markdown",
   "metadata": {},
   "source": [
    "Grouped sales data by make model year as requested. Attached resulting csv file for reference "
   ]
  },
  {
   "cell_type": "code",
   "execution_count": 353,
   "metadata": {
    "collapsed": false
   },
   "outputs": [],
   "source": [
    "(grouped_sales.Price.apply(lambda x: x.nlargest(3)).reset_index().drop('level_3',axis=1)).to_csv('Top_sales_by_MMY.csv')"
   ]
  },
  {
   "cell_type": "code",
   "execution_count": 386,
   "metadata": {
    "collapsed": false
   },
   "outputs": [],
   "source": [
    "grouped_make=sales_data.groupby('Make')"
   ]
  },
  {
   "cell_type": "markdown",
   "metadata": {},
   "source": [
    "Grouped sales data by make as per request , find highest # number of sales by model"
   ]
  },
  {
   "cell_type": "code",
   "execution_count": 404,
   "metadata": {
    "collapsed": false
   },
   "outputs": [
    {
     "data": {
      "text/plain": [
       "Make                         \n",
       "AM             General              5\n",
       "Acura          MDXFWD             234\n",
       "Alfa           Romeo                9\n",
       "Aston          Martin              43\n",
       "Audi           A42.0T             261\n",
       "BMW            3                 3306\n",
       "Bentley        Continental         92\n",
       "Buick          EnclaveLeather     373\n",
       "Cadillac       CTS                398\n",
       "Chevrolet      Silverado         3111\n",
       "Chrysler       Town               589\n",
       "Dodge          Grand              900\n",
       "FIAT           500Pop             124\n",
       "Ferrari        458                 25\n",
       "Fisker         Karma4dr             6\n",
       "Ford           FusionSE           971\n",
       "Freightliner   Sprinter             1\n",
       "GMC            Sierra            1374\n",
       "Genesis        G803.8L             22\n",
       "HUMMER         H24dr               43\n",
       "Honda          Accord            2915\n",
       "Hyundai        Santa             1392\n",
       "INFINITI       G37                424\n",
       "Isuzu          Ascender4dr          5\n",
       "Jaguar         XJ4dr               52\n",
       "Jeep           Grand             1244\n",
       "Kia            OptimaLX           880\n",
       "Lamborghini    HuracanLP           10\n",
       "Land           Rover              877\n",
       "Lexus          IS                 952\n",
       "Lincoln        MKZFWD             129\n",
       "Lotus          Elise2dr             4\n",
       "MINI           Cooper            1244\n",
       "Maserati       GhibliGhibli       127\n",
       "Maybach        574dr                2\n",
       "Mazda          Mazda3i            559\n",
       "McLaren        675LT2dr             5\n",
       "Mercedes-Benz  E-ClassE350        630\n",
       "Mercury        Grand               46\n",
       "Mitsubishi     Outlander          162\n",
       "Nissan         Altima2.5         2200\n",
       "Oldsmobile     Silhouette4dr        1\n",
       "Plymouth       Prowler2dr           5\n",
       "Pontiac        G64dr               31\n",
       "Porsche        CayenneAWD         115\n",
       "Ram            1500SLT            360\n",
       "Rolls-Royce    WraithCoupe         12\n",
       "Saab           9-32dr              16\n",
       "Saturn         VUEFWD              21\n",
       "Scion          xB5dr              140\n",
       "Subaru         Impreza            407\n",
       "Suzuki         Grand                9\n",
       "Tesla          Model               51\n",
       "Toyota         CamrySE           1376\n",
       "Volkswagen     Jetta             1814\n",
       "Volvo          XC60T5             157\n",
       "smart          fortwo              31\n",
       "dtype: int64"
      ]
     },
     "execution_count": 404,
     "metadata": {},
     "output_type": "execute_result"
    }
   ],
   "source": [
    "grouped_make.Model.apply(lambda x :x.value_counts().nlargest(1))"
   ]
  },
  {
   "cell_type": "code",
   "execution_count": 409,
   "metadata": {
    "collapsed": false
   },
   "outputs": [
    {
     "data": {
      "text/html": [
       "<div>\n",
       "<table border=\"1\" class=\"dataframe\">\n",
       "  <thead>\n",
       "    <tr style=\"text-align: right;\">\n",
       "      <th></th>\n",
       "      <th>Make</th>\n",
       "      <th>Model</th>\n",
       "      <th>Year</th>\n",
       "      <th>Engine Fuel Type</th>\n",
       "      <th>Engine HP</th>\n",
       "      <th>Engine Cylinders</th>\n",
       "      <th>Transmission Type</th>\n",
       "      <th>Driven_Wheels</th>\n",
       "      <th>Number of Doors</th>\n",
       "      <th>Market Category</th>\n",
       "      <th>Vehicle Size</th>\n",
       "      <th>Vehicle Style</th>\n",
       "      <th>highway MPG</th>\n",
       "      <th>city mpg</th>\n",
       "      <th>Popularity</th>\n",
       "      <th>MSRP</th>\n",
       "    </tr>\n",
       "  </thead>\n",
       "  <tbody>\n",
       "    <tr>\n",
       "      <th>0</th>\n",
       "      <td>BMW</td>\n",
       "      <td>1 Series M</td>\n",
       "      <td>2011</td>\n",
       "      <td>premium unleaded (required)</td>\n",
       "      <td>335.0</td>\n",
       "      <td>6.0</td>\n",
       "      <td>MANUAL</td>\n",
       "      <td>rear wheel drive</td>\n",
       "      <td>2.0</td>\n",
       "      <td>Factory Tuner,Luxury,High-Performance</td>\n",
       "      <td>Compact</td>\n",
       "      <td>Coupe</td>\n",
       "      <td>26</td>\n",
       "      <td>19</td>\n",
       "      <td>3916</td>\n",
       "      <td>46135</td>\n",
       "    </tr>\n",
       "    <tr>\n",
       "      <th>1</th>\n",
       "      <td>BMW</td>\n",
       "      <td>1 Series</td>\n",
       "      <td>2011</td>\n",
       "      <td>premium unleaded (required)</td>\n",
       "      <td>300.0</td>\n",
       "      <td>6.0</td>\n",
       "      <td>MANUAL</td>\n",
       "      <td>rear wheel drive</td>\n",
       "      <td>2.0</td>\n",
       "      <td>Luxury,Performance</td>\n",
       "      <td>Compact</td>\n",
       "      <td>Convertible</td>\n",
       "      <td>28</td>\n",
       "      <td>19</td>\n",
       "      <td>3916</td>\n",
       "      <td>40650</td>\n",
       "    </tr>\n",
       "    <tr>\n",
       "      <th>2</th>\n",
       "      <td>BMW</td>\n",
       "      <td>1 Series</td>\n",
       "      <td>2011</td>\n",
       "      <td>premium unleaded (required)</td>\n",
       "      <td>300.0</td>\n",
       "      <td>6.0</td>\n",
       "      <td>MANUAL</td>\n",
       "      <td>rear wheel drive</td>\n",
       "      <td>2.0</td>\n",
       "      <td>Luxury,High-Performance</td>\n",
       "      <td>Compact</td>\n",
       "      <td>Coupe</td>\n",
       "      <td>28</td>\n",
       "      <td>20</td>\n",
       "      <td>3916</td>\n",
       "      <td>36350</td>\n",
       "    </tr>\n",
       "    <tr>\n",
       "      <th>3</th>\n",
       "      <td>BMW</td>\n",
       "      <td>1 Series</td>\n",
       "      <td>2011</td>\n",
       "      <td>premium unleaded (required)</td>\n",
       "      <td>230.0</td>\n",
       "      <td>6.0</td>\n",
       "      <td>MANUAL</td>\n",
       "      <td>rear wheel drive</td>\n",
       "      <td>2.0</td>\n",
       "      <td>Luxury,Performance</td>\n",
       "      <td>Compact</td>\n",
       "      <td>Coupe</td>\n",
       "      <td>28</td>\n",
       "      <td>18</td>\n",
       "      <td>3916</td>\n",
       "      <td>29450</td>\n",
       "    </tr>\n",
       "    <tr>\n",
       "      <th>4</th>\n",
       "      <td>BMW</td>\n",
       "      <td>1 Series</td>\n",
       "      <td>2011</td>\n",
       "      <td>premium unleaded (required)</td>\n",
       "      <td>230.0</td>\n",
       "      <td>6.0</td>\n",
       "      <td>MANUAL</td>\n",
       "      <td>rear wheel drive</td>\n",
       "      <td>2.0</td>\n",
       "      <td>Luxury</td>\n",
       "      <td>Compact</td>\n",
       "      <td>Convertible</td>\n",
       "      <td>28</td>\n",
       "      <td>18</td>\n",
       "      <td>3916</td>\n",
       "      <td>34500</td>\n",
       "    </tr>\n",
       "  </tbody>\n",
       "</table>\n",
       "</div>"
      ],
      "text/plain": [
       "  Make       Model  Year             Engine Fuel Type  Engine HP  \\\n",
       "0  BMW  1 Series M  2011  premium unleaded (required)      335.0   \n",
       "1  BMW    1 Series  2011  premium unleaded (required)      300.0   \n",
       "2  BMW    1 Series  2011  premium unleaded (required)      300.0   \n",
       "3  BMW    1 Series  2011  premium unleaded (required)      230.0   \n",
       "4  BMW    1 Series  2011  premium unleaded (required)      230.0   \n",
       "\n",
       "   Engine Cylinders Transmission Type     Driven_Wheels  Number of Doors  \\\n",
       "0               6.0            MANUAL  rear wheel drive              2.0   \n",
       "1               6.0            MANUAL  rear wheel drive              2.0   \n",
       "2               6.0            MANUAL  rear wheel drive              2.0   \n",
       "3               6.0            MANUAL  rear wheel drive              2.0   \n",
       "4               6.0            MANUAL  rear wheel drive              2.0   \n",
       "\n",
       "                         Market Category Vehicle Size Vehicle Style  \\\n",
       "0  Factory Tuner,Luxury,High-Performance      Compact         Coupe   \n",
       "1                     Luxury,Performance      Compact   Convertible   \n",
       "2                Luxury,High-Performance      Compact         Coupe   \n",
       "3                     Luxury,Performance      Compact         Coupe   \n",
       "4                                 Luxury      Compact   Convertible   \n",
       "\n",
       "   highway MPG  city mpg  Popularity   MSRP  \n",
       "0           26        19        3916  46135  \n",
       "1           28        19        3916  40650  \n",
       "2           28        20        3916  36350  \n",
       "3           28        18        3916  29450  \n",
       "4           28        18        3916  34500  "
      ]
     },
     "execution_count": 409,
     "metadata": {},
     "output_type": "execute_result"
    }
   ],
   "source": [
    "msrp_data.head(5)"
   ]
  },
  {
   "cell_type": "code",
   "execution_count": 419,
   "metadata": {
    "collapsed": false
   },
   "outputs": [
    {
     "data": {
      "text/plain": [
       "(11914, 16)"
      ]
     },
     "execution_count": 419,
     "metadata": {},
     "output_type": "execute_result"
    }
   ],
   "source": [
    "msrp_data.shape"
   ]
  },
  {
   "cell_type": "markdown",
   "metadata": {},
   "source": [
    "Some of the sales data does not have msrp in the data provided. By dafault when merged it caused resulting sales data to be ommited. Can change this but would like to do what would constitute a good guess"
   ]
  },
  {
   "cell_type": "code",
   "execution_count": 425,
   "metadata": {
    "collapsed": false
   },
   "outputs": [],
   "source": [
    "merged_data=pd.merge(sales_data,msrp_data,on=['Make','Model','Year'])"
   ]
  },
  {
   "cell_type": "code",
   "execution_count": null,
   "metadata": {
    "collapsed": true
   },
   "outputs": [],
   "source": []
  }
 ],
 "metadata": {
  "kernelspec": {
   "display_name": "Python 3",
   "language": "python",
   "name": "python3"
  },
  "language_info": {
   "codemirror_mode": {
    "name": "ipython",
    "version": 3
   },
   "file_extension": ".py",
   "mimetype": "text/x-python",
   "name": "python",
   "nbconvert_exporter": "python",
   "pygments_lexer": "ipython3",
   "version": "3.5.1"
  }
 },
 "nbformat": 4,
 "nbformat_minor": 2
}
